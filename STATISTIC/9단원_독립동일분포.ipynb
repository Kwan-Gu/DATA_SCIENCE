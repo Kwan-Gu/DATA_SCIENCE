{
 "cells": [
  {
   "cell_type": "markdown",
   "metadata": {},
   "source": [
    "***\n",
    "# 소개\n",
    "\n",
    "\n",
    "* 이 장에서 살펴볼 확률변수는 **서로 독립인 다차원 확률변수**.\n",
    "* 독립: 확률변수가 다른 확률변수에 영향을 끼치지 않음.\n",
    "\n",
    "\n",
    "* **독립동일분포**(**i.i.d.**; independently and identically distributed): **서로 독립**이고 각각 **동일한 확률분포**를 따르는 다차원 확률변수.\n",
    "    * 동일한 조건 아래에서 수행되는 실험이나 관측을 여러 번 반복하여 데이터를 얻는 것.\n",
    "    * 예: 우연히 만난 20명의 학생에게 시험 점수를 물어본 경우,\n",
    "    * 학생 한 명의 점수 각각은 전교생의 점수 분포를 따르는 **1차원 확률변수**,\n",
    "    * 어떤 학생을 만나기 직전에 만났던 학생과 전혀 관계없이 만난 학생이므로,\n",
    "    * 우연히 만난 20명의 점수는 **서로 독립인 20차원의 확률변수** (독립동일분포).\n",
    "    * 확률분포 $F$: $X_1, X_2, ..., X_{20} \\sim F$."
   ]
  },
  {
   "cell_type": "markdown",
   "metadata": {},
   "source": [
    "***\n",
    "# 9.1. 독립성(Independence)\n",
    "\n",
    "\n",
    "## 9.1.1. 독립성의 정의\n",
    "\n",
    "\n",
    "* n 개의 확률변수 $X_1, X_2, ..., X_n$이 다음을 만족할 때, $X_1, X_2, ..., X_n$은 서로 독립.\n",
    "\n",
    "$$f_{X_1, X_2, ..., X_n}(x_1, x_2, ..., x_n) = f_{X_1}(x_1)f_{X_2}(x_2)...f_{X_n}(x_n)$$\n",
    "\n",
    "\n",
    "## 9.1.2. 독립성과 무상관성\n",
    "\n",
    "\n",
    "* 공분산, 상관계수: 두 확률변수의 관계성을 나타내는 지표.\n",
    "    * 무상관: 공분산 또는 상관계수가 0 (두 확률변수 사이에 상관성, 선형 관계가 없음).\n",
    "\n",
    "\n",
    "* X와 Y가 **독립**일 때 X와 Y는 **무상관**이 되지만, X와 Y가 **무상관**일 때 무상관일 때 X와 Y가 반드시 **독립**인 것은 아님."
   ]
  },
  {
   "cell_type": "markdown",
   "metadata": {},
   "source": [
    "***\n",
    "# 9.2. 합의 분포\n",
    "\n",
    "\n"
   ]
  }
 ],
 "metadata": {
  "kernelspec": {
   "display_name": "Python 3",
   "language": "python",
   "name": "python3"
  },
  "language_info": {
   "codemirror_mode": {
    "name": "ipython",
    "version": 3
   },
   "file_extension": ".py",
   "mimetype": "text/x-python",
   "name": "python",
   "nbconvert_exporter": "python",
   "pygments_lexer": "ipython3",
   "version": "3.6.12"
  }
 },
 "nbformat": 4,
 "nbformat_minor": 4
}
