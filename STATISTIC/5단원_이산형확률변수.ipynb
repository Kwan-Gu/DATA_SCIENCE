{
 "cells": [
  {
   "cell_type": "markdown",
   "metadata": {},
   "source": [
    "# 5단원. 이산형 확률변수\n",
    "\n",
    "\n",
    "* 수식을 모른 채 라이브러리의 사용 방식만 배워 통계를 진행한다면 통계분석을 마스터한 것이 아니라 라이브러리의 사용 방식을 마스터한 것일 뿐!\n",
    "\n",
    "\n",
    "***"
   ]
  },
  {
   "cell_type": "markdown",
   "metadata": {},
   "source": [
    "## 5.1. 1차원 이산형 확률변수\n",
    "\n",
    "\n",
    "### 5.1.1. 1차원 이산형 확률변수의 정의\n",
    "\n",
    "\n",
    "* 확률변수: 변수가 취할 수 있는 값과 그 값이 나오는 확률\n",
    "\n",
    "\n",
    "$$ P(X=x_k)=p_k (k=1, 2, ...) $$\n",
    "\n",
    "\n",
    "* 확률질량함수(PMF; Probability mass function): 확률은 변수가 취할 수 있는 값 x를 인수로 하는 함수로 볼 수 있음\n",
    "\n",
    "\n",
    "$$ f(x)=P(X=x) $$\n",
    "\n",
    "\n",
    "* 확률분포(Probability distribution): 확률변수가 취할 수 있는 값과 그 확률"
   ]
  },
  {
   "cell_type": "code",
   "execution_count": 3,
   "metadata": {},
   "outputs": [
    {
     "name": "stdout",
     "output_type": "stream",
     "text": [
      "[1 2 3 4 5 6]\n"
     ]
    }
   ],
   "source": [
    "import numpy as np\n",
    "\n",
    "\n",
    "x_set = np.arange(1, 6 + 1) # 주사위에서 확률변수가 취할 수 있는 값\n",
    "\n",
    "print(x_set)"
   ]
  },
  {
   "cell_type": "code",
   "execution_count": 5,
   "metadata": {},
   "outputs": [],
   "source": [
    "def f(x): # 불공정한 주사위의 확률변수\n",
    "    if x in x_set:\n",
    "        return x / 21\n",
    "    \n",
    "    else:\n",
    "        return 0"
   ]
  },
  {
   "cell_type": "code",
   "execution_count": 6,
   "metadata": {},
   "outputs": [],
   "source": [
    "X = [x_set, f] # 확률분포 X"
   ]
  },
  {
   "cell_type": "code",
   "execution_count": null,
   "metadata": {},
   "outputs": [],
   "source": []
  }
 ],
 "metadata": {
  "kernelspec": {
   "display_name": "Python 3",
   "language": "python",
   "name": "python3"
  },
  "language_info": {
   "codemirror_mode": {
    "name": "ipython",
    "version": 3
   },
   "file_extension": ".py",
   "mimetype": "text/x-python",
   "name": "python",
   "nbconvert_exporter": "python",
   "pygments_lexer": "ipython3",
   "version": "3.7.3"
  }
 },
 "nbformat": 4,
 "nbformat_minor": 2
}
