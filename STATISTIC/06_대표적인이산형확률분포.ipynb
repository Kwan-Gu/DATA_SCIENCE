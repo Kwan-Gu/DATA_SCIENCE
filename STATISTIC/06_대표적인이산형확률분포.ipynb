{
 "cells": [
  {
   "cell_type": "markdown",
   "metadata": {},
   "source": [
    "# 6단원. 이산형 확률분포\n",
    "\n",
    "\n",
    "* 추측 통계의 목표: 한정된 표본으로부터 모집단의 평균, 분산을 추정\n",
    "\n",
    "\n",
    "* **모수적 기법**: 이 때 모집단이 어떠한 성질일 것이므로 이러한 형태를 지닌 **확률분포**일 것이다라는 가정을 하고, 확률분포의 기댓값과 분산을 결정하는 파라미터를 추측\n",
    "* **비모수적 기법**: 모집단의 확률분포에 어떠한 가정도 하지 않음\n",
    "\n",
    "\n",
    "**<center>파라미터만 추측하면 되니까 추정이 간단하고 분석이 쉬운 모형을 만들 수 있다!</center>**\n",
    "\n",
    "\n",
    "1. **다양한 확률분포, 특히 이산형 확률분포에 대해 소개**\n",
    "2. **각각의 확률분포를 어떠한 상황에서 사용하는지 설명**\n",
    "\n",
    "\n",
    "***"
   ]
  },
  {
   "cell_type": "markdown",
   "metadata": {},
   "source": [
    "## 6.1. 베르누이 분포(Bernoulli distribution)\n",
    "\n",
    "\n",
    "* 확률변수가 취할 수 있는 값이 **0과 1**밖에 없는 분포\n",
    "* 1이 나오는 확률을 $p$, 0이 나오는 확률을 $1-p$\n",
    "* 파라미터: $p$\n",
    "\n",
    "\n",
    "$$\n",
    "f(x)=\n",
    "\\begin{cases}\n",
    "p^x (1-p)^{(1-x)} & (x \\in \\{0, 1\\}) \\\\\n",
    "0               & (otherwise)\n",
    "\\end{cases}\n",
    "$$\n",
    "\n",
    "\n",
    "* 기댓값과 분산\n",
    "\n",
    "\n",
    "$$\n",
    "E(X)=p\n",
    "$$\n",
    "\n",
    "\n",
    "$$\n",
    "V(X)=p(1-p)\n",
    "$$"
   ]
  },
  {
   "cell_type": "code",
   "execution_count": 1,
   "metadata": {},
   "outputs": [],
   "source": [
    "import numpy as np\n",
    "\n",
    "\n",
    "def Bern(p):\n",
    "    x_set = np.array([0, 1])\n",
    "    \n",
    "    def f(x):\n",
    "        if x in x_set:\n",
    "            return p ** x * (1 - p) ** (1 - x)\n",
    "        else:\n",
    "            return 0\n",
    "    \n",
    "    return x_set, f"
   ]
  },
  {
   "cell_type": "code",
   "execution_count": 2,
   "metadata": {},
   "outputs": [
    {
     "name": "stdout",
     "output_type": "stream",
     "text": [
      "(array([0, 1]), <function Bern.<locals>.f at 0x000001CE2420B598>)\n"
     ]
    }
   ],
   "source": [
    "p = 0.3\n",
    "X = Bern(p)\n",
    "\n",
    "print(X)"
   ]
  },
  {
   "cell_type": "code",
   "execution_count": 3,
   "metadata": {},
   "outputs": [],
   "source": [
    "def E(X):\n",
    "    x_set, f = X\n",
    "    \n",
    "    return np.sum([x_k * f(x_k) for x_k in x_set])\n",
    "\n",
    "\n",
    "def V(X):\n",
    "    x_set, f = X\n",
    "    \n",
    "    mean = E(X)\n",
    "    \n",
    "    return np.sum([(x_k - mean) ** 2 * f(x_k) for x_k in x_set])\n",
    "\n",
    "\n",
    "def check_prob(X):\n",
    "    x_set, f = X\n",
    "    prob = np.array([f(x_k) for x_k in x_set])\n",
    "    \n",
    "    assert np.all(prob >= 0), \"minus probability\" \n",
    "    # assert는 뒤의 조건이 참이 아니면 AssertError를 발생시킴\n",
    "    # numpy.all() 배열의 모든 데이터가 조건과 맞으면 참, 하나라도 다르면 거짓\n",
    "    \n",
    "    prob_sum = np.round(np.sum(prob), 2)\n",
    "    # Computation error 때문에 반올림해줘야 함!\n",
    "    assert prob_sum == 1, f\"sum of probability {prob_sum}\"\n",
    "    # f-문자열이 가독성 좋음\n",
    "    \n",
    "    print(f\"expected value {E(X): .4}\")\n",
    "    print(f\"variance {V(X): .4}\")"
   ]
  },
  {
   "cell_type": "code",
   "execution_count": 4,
   "metadata": {},
   "outputs": [
    {
     "name": "stdout",
     "output_type": "stream",
     "text": [
      "expected value  0.3\n",
      "variance  0.21\n"
     ]
    }
   ],
   "source": [
    "check_prob(X)"
   ]
  },
  {
   "cell_type": "code",
   "execution_count": 5,
   "metadata": {},
   "outputs": [],
   "source": [
    "import matplotlib.pyplot as plt\n",
    "import matplotlib.font_manager as fm\n",
    "\n",
    "\n",
    "fontPath = \"./NanumGothic.ttf\"\n",
    "fontProp = fm.FontProperties(fname = fontPath)\n",
    "\n",
    "\n",
    "def plot_prob(X):\n",
    "    x_set, f = X\n",
    "    prob = np.array([f(x_k) for x_k in x_set])\n",
    "    \n",
    "    fig = plt.figure(figsize = (15, 5))\n",
    "    ax  = fig.add_subplot(111)\n",
    "    \n",
    "    ax.bar(x_set, prob, color = \"0.5\", label = \"확률\")\n",
    "    ax.vlines(E(X), 0, 1, label = \"평균\")\n",
    "    \n",
    "    ax.set_xticks(np.append(x_set, E(X)))\n",
    "    ax.set_ylim(0, 1)\n",
    "    ax.set_xlabel(\"x\")\n",
    "    ax.set_ylabel(\"p(x)\")\n",
    "    ax.legend(prop = fontProp)\n",
    "    ax.grid(True)\n",
    "    \n",
    "    plt.show()"
   ]
  },
  {
   "cell_type": "code",
   "execution_count": 6,
   "metadata": {},
   "outputs": [
    {
     "data": {
      "image/png": "[encoded data removed]",
      "text/plain": [
       "<Figure size 1080x360 with 1 Axes>"
      ]
     },
     "metadata": {
      "needs_background": "light"
     },
     "output_type": "display_data"
    }
   ],
   "source": [
    "plot_prob(X)"
   ]
  },
  {
   "cell_type": "code",
   "execution_count": 7,
   "metadata": {},
   "outputs": [
    {
     "name": "stdout",
     "output_type": "stream",
     "text": [
      "expected value  0.5\n",
      "variance  0.25\n"
     ]
    },
    {
     "data": {
      "image/png": "[encoded data removed]",
      "text/plain": [
       "<Figure size 1080x360 with 1 Axes>"
      ]
     },
     "metadata": {
      "needs_background": "light"
     },
     "output_type": "display_data"
    }
   ],
   "source": [
    "p = 0.5\n",
    "X = Bern(p)\n",
    "\n",
    "check_prob(X)\n",
    "plot_prob(X)"
   ]
  },
  {
   "cell_type": "code",
   "execution_count": 8,
   "metadata": {},
   "outputs": [
    {
     "name": "stdout",
     "output_type": "stream",
     "text": [
      "expected value  0.7\n",
      "variance  0.21\n"
     ]
    },
    {
     "data": {
      "image/png": "[encoded data removed]",
      "text/plain": [
       "<Figure size 1080x360 with 1 Axes>"
      ]
     },
     "metadata": {
      "needs_background": "light"
     },
     "output_type": "display_data"
    }
   ],
   "source": [
    "p = 0.7\n",
    "X = Bern(p)\n",
    "\n",
    "check_prob(X)\n",
    "plot_prob(X)"
   ]
  },
  {
   "cell_type": "markdown",
   "metadata": {},
   "source": [
    "## 6.2. 이항 분포(Binomial distribution)\n",
    "\n",
    "\n",
    "* 성공 확률이 $p$인 베르누이 시행을 $n$번 했을 때의 **성공 횟수**가 따르는 분포\n",
    "* 파라미터: 성공 확률 $p$, 시행 횟수 $n$\n",
    "\n",
    "\n",
    "$$\n",
    "f(x)=\n",
    "\\begin{cases}\n",
    "{}_nC_x p^x (1-p)^{(n-x)} & (x \\in \\{0, 1, ..., n\\}) \\\\\n",
    "0               & (otherwise)\n",
    "\\end{cases}\n",
    "$$\n",
    "\n",
    "\n",
    "$$\n",
    "{}_nC_x = {n! \\over x!(n-x)!}\n",
    "$$\n",
    "\n",
    "\n",
    "* 기댓값과 분산\n",
    "\n",
    "\n",
    "$$ E(X) = np$$\n",
    "\n",
    "\n",
    "$$ V(X) = np(1-p)$$"
   ]
  },
  {
   "cell_type": "code",
   "execution_count": 9,
   "metadata": {},
   "outputs": [],
   "source": [
    "from scipy.special import comb\n",
    "\n",
    "\n",
    "def Bin(n, p):\n",
    "    x_set = np.arange(n + 1)\n",
    "    \n",
    "    def f(x):\n",
    "        if x in x_set:\n",
    "            return comb(n, x) * p ** x * (1 - p) ** (n - x)\n",
    "        \n",
    "        else:\n",
    "            return 0\n",
    "    \n",
    "    return x_set, f"
   ]
  },
  {
   "cell_type": "code",
   "execution_count": 10,
   "metadata": {},
   "outputs": [
    {
     "name": "stdout",
     "output_type": "stream",
     "text": [
      "(array([ 0,  1,  2,  3,  4,  5,  6,  7,  8,  9, 10]), <function Bin.<locals>.f at 0x000001CE25DCF400>)\n"
     ]
    }
   ],
   "source": [
    "n = 10\n",
    "p = 0.3\n",
    "X = Bin(n, p)\n",
    "\n",
    "print(X)"
   ]
  },
  {
   "cell_type": "code",
   "execution_count": 11,
   "metadata": {},
   "outputs": [
    {
     "name": "stdout",
     "output_type": "stream",
     "text": [
      "expected value  3.0\n",
      "variance  2.1\n"
     ]
    }
   ],
   "source": [
    "check_prob(X)"
   ]
  },
  {
   "cell_type": "code",
   "execution_count": 12,
   "metadata": {
    "scrolled": true
   },
   "outputs": [
    {
     "data": {
      "image/png": "[encoded data removed]",
      "text/plain": [
       "<Figure size 1080x360 with 1 Axes>"
      ]
     },
     "metadata": {
      "needs_background": "light"
     },
     "output_type": "display_data"
    }
   ],
   "source": [
    "plot_prob(X)"
   ]
  },
  {
   "cell_type": "code",
   "execution_count": 13,
   "metadata": {},
   "outputs": [
    {
     "name": "stdout",
     "output_type": "stream",
     "text": [
      "expected value  5.0\n",
      "variance  2.5\n"
     ]
    },
    {
     "data": {
      "image/png": "[encoded data removed]",
      "text/plain": [
       "<Figure size 1080x360 with 1 Axes>"
      ]
     },
     "metadata": {
      "needs_background": "light"
     },
     "output_type": "display_data"
    }
   ],
   "source": [
    "n = 10\n",
    "p = 0.5\n",
    "X = Bin(n, p)\n",
    "\n",
    "check_prob(X)\n",
    "\n",
    "plot_prob(X)"
   ]
  },
  {
   "cell_type": "code",
   "execution_count": 14,
   "metadata": {},
   "outputs": [
    {
     "name": "stdout",
     "output_type": "stream",
     "text": [
      "expected value  7.0\n",
      "variance  2.1\n"
     ]
    },
    {
     "data": {
      "image/png": "[encoded data removed]",
      "text/plain": [
       "<Figure size 1080x360 with 1 Axes>"
      ]
     },
     "metadata": {
      "needs_background": "light"
     },
     "output_type": "display_data"
    }
   ],
   "source": [
    "n = 10\n",
    "p = 0.7\n",
    "X = Bin(n, p)\n",
    "\n",
    "check_prob(X)\n",
    "\n",
    "plot_prob(X)"
   ]
  },
  {
   "cell_type": "markdown",
   "metadata": {},
   "source": [
    "## 6.3. 기하 분포(Geometric distribution)\n",
    "\n",
    "\n",
    "* 베르누이 시행에서 **처음 성공할 때까지 반복한 시행 횟수**가 따르는 분포\n",
    "* 파라미터: 성공 확률 $p$\n",
    "\n",
    "\n",
    "$$\n",
    "f(x)=\n",
    "\\begin{cases}\n",
    "(1-p)^{(x-1)}p & (x \\in \\{1, 2, 3, ...\\}) \\\\\n",
    "0               & (otherwise)\n",
    "\\end{cases}\n",
    "$$\n",
    "\n",
    "\n",
    "* 기댓값과 분산\n",
    "\n",
    "\n",
    "$$ E(X)={1 \\over p}$$\n",
    "\n",
    "\n",
    "$$ V(X)={(1-p) \\over p^2}$$"
   ]
  },
  {
   "cell_type": "code",
   "execution_count": 15,
   "metadata": {},
   "outputs": [],
   "source": [
    "def Ge(p):\n",
    "    x_set = np.arange(1, 25)\n",
    "    \n",
    "    def f(x):\n",
    "        if x in x_set:\n",
    "            return (1 - p) ** (x - 1) * p\n",
    "        \n",
    "        else:\n",
    "            return 0\n",
    "    \n",
    "    return x_set, f"
   ]
  },
  {
   "cell_type": "code",
   "execution_count": 16,
   "metadata": {},
   "outputs": [
    {
     "name": "stdout",
     "output_type": "stream",
     "text": [
      "(array([ 1,  2,  3,  4,  5,  6,  7,  8,  9, 10, 11, 12, 13, 14, 15, 16, 17,\n",
      "       18, 19, 20, 21, 22, 23, 24]), <function Ge.<locals>.f at 0x000001CE25F747B8>)\n"
     ]
    }
   ],
   "source": [
    "p = 0.5\n",
    "X = Ge(p)\n",
    "\n",
    "print(X)"
   ]
  },
  {
   "cell_type": "code",
   "execution_count": 17,
   "metadata": {},
   "outputs": [
    {
     "name": "stdout",
     "output_type": "stream",
     "text": [
      "expected value  2.0\n",
      "variance  2.0\n"
     ]
    }
   ],
   "source": [
    "check_prob(X)"
   ]
  },
  {
   "cell_type": "code",
   "execution_count": 18,
   "metadata": {},
   "outputs": [
    {
     "data": {
      "image/png": "[encoded data removed]",
      "text/plain": [
       "<Figure size 1080x360 with 1 Axes>"
      ]
     },
     "metadata": {
      "needs_background": "light"
     },
     "output_type": "display_data"
    }
   ],
   "source": [
    "plot_prob(X)"
   ]
  },
  {
   "cell_type": "code",
   "execution_count": 19,
   "metadata": {},
   "outputs": [
    {
     "name": "stdout",
     "output_type": "stream",
     "text": [
      "expected value  4.863\n",
      "variance  17.17\n"
     ]
    },
    {
     "data": {
      "image/png": "[encoded data removed]",
      "text/plain": [
       "<Figure size 1080x360 with 1 Axes>"
      ]
     },
     "metadata": {
      "needs_background": "light"
     },
     "output_type": "display_data"
    }
   ],
   "source": [
    "p = 0.2\n",
    "X = Ge(p)\n",
    "\n",
    "check_prob(X)\n",
    "plot_prob(X)"
   ]
  },
  {
   "cell_type": "markdown",
   "metadata": {},
   "source": [
    "## 6.4. 포아송 분포(Poisson distribution)\n",
    "\n",
    "\n",
    "* 사건이 **단위 시간당 발생하는 건수**가 따르는 확률분포\n",
    "* 파라미터: 평균 발생 건수 $\\lambda$\n",
    "\n",
    "\n",
    "$$\n",
    "f(x)=\n",
    "\\begin{cases}\n",
    "{\\lambda^x \\over x!} \\cdot e^{-\\lambda} & (x \\in \\{0, 1, 2, ...\\}) \\\\\n",
    "0               & (otherwise)\n",
    "\\end{cases}\n",
    "$$\n",
    "\n",
    "\n",
    "* 기댓값과 분산\n",
    "\n",
    "\n",
    "$$E(X)=\\lambda$$\n",
    "\n",
    "\n",
    "$$V(X)=\\lambda$$"
   ]
  },
  {
   "cell_type": "code",
   "execution_count": 20,
   "metadata": {},
   "outputs": [],
   "source": [
    "from scipy.special import factorial\n",
    "\n",
    "\n",
    "def Poi(lam):\n",
    "    x_set = np.arange(20)\n",
    "    \n",
    "    def f(x):\n",
    "        if x in x_set:\n",
    "            return np.power(lam, x) / factorial(x) * np.exp(-lam)\n",
    "        \n",
    "        else:\n",
    "            return 0\n",
    "    \n",
    "    return x_set, f"
   ]
  },
  {
   "cell_type": "code",
   "execution_count": 21,
   "metadata": {},
   "outputs": [],
   "source": [
    "lam = 3\n",
    "X = Poi(lam)"
   ]
  },
  {
   "cell_type": "code",
   "execution_count": 22,
   "metadata": {},
   "outputs": [
    {
     "name": "stdout",
     "output_type": "stream",
     "text": [
      "expected value  3.0\n",
      "variance  3.0\n"
     ]
    }
   ],
   "source": [
    "check_prob(X)"
   ]
  },
  {
   "cell_type": "code",
   "execution_count": 23,
   "metadata": {},
   "outputs": [
    {
     "data": {
      "image/png": "[encoded data removed]",
      "text/plain": [
       "<Figure size 1080x360 with 1 Axes>"
      ]
     },
     "metadata": {
      "needs_background": "light"
     },
     "output_type": "display_data"
    }
   ],
   "source": [
    "plot_prob(X)"
   ]
  },
  {
   "cell_type": "code",
   "execution_count": 24,
   "metadata": {},
   "outputs": [
    {
     "data": {
      "image/png": "[encoded data removed]",
      "text/plain": [
       "<Figure size 720x432 with 1 Axes>"
      ]
     },
     "metadata": {
      "needs_background": "light"
     },
     "output_type": "display_data"
    }
   ],
   "source": [
    "from scipy import stats\n",
    "\n",
    "\n",
    "lams       = [3  , 5   , 8  ]\n",
    "linestyles = [\"-\", \"--\", \":\"]\n",
    "\n",
    "fig = plt.figure(figsize = (10, 6))\n",
    "ax = fig.add_subplot(111)\n",
    "\n",
    "x_set = np.arange(20)\n",
    "\n",
    "for lam, ls in zip(lams, linestyles):\n",
    "    rv = stats.poisson(lam)\n",
    "    \n",
    "    ax.plot(x_set, rv.pmf(x_set), label = f\"lam: {lam}\", ls = ls, color = \"0.25\")\n",
    "\n",
    "ax.set_xticks(x_set)\n",
    "ax.set_xlabel(\"x\")\n",
    "ax.set_ylabel(\"p(x)\")\n",
    "ax.legend()\n",
    "\n",
    "plt.show()"
   ]
  }
 ],
 "metadata": {
  "kernelspec": {
   "display_name": "Python 3",
   "language": "python",
   "name": "python3"
  },
  "language_info": {
   "codemirror_mode": {
    "name": "ipython",
    "version": 3
   },
   "file_extension": ".py",
   "mimetype": "text/x-python",
   "name": "python",
   "nbconvert_exporter": "python",
   "pygments_lexer": "ipython3",
   "version": "3.6.10"
  }
 },
 "nbformat": 4,
 "nbformat_minor": 4
}
