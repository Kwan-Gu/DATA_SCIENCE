{
 "cells": [
  {
   "cell_type": "code",
   "execution_count": 41,
   "metadata": {},
   "outputs": [
    {
     "name": "stdout",
     "output_type": "stream",
     "text": [
      "3\n",
      "3 7\n",
      "15 7\n",
      "5 2\n",
      "13 3 17 7\n",
      "25 15 17 7\n",
      "13 5 17 2\n",
      "120\n"
     ]
    }
   ],
   "source": [
    "n = int(input())\n",
    "\n",
    "figure = [[False for _ in range(100)] for _ in range(100)]\n",
    "\n",
    "xs, ys = [], []\n",
    "\n",
    "for _ in range(n):\n",
    "    x, y = map(int, input().split())\n",
    "    \n",
    "    for yy in range(y, y + 10):\n",
    "        for xx in range(x, x + 10):\n",
    "            figure[yy][xx] = True\n",
    "    \n",
    "    xs.append(x)\n",
    "    ys.append(y)\n",
    "\n",
    "areas = []\n",
    "\n",
    "for llx, lly in zip(xs, ys):\n",
    "    for urx, ury in zip(xs, ys):\n",
    "        urx += 10\n",
    "        ury += 10\n",
    "        \n",
    "        if (llx >= urx) | (lly >= ury):\n",
    "            continue\n",
    "        else:\n",
    "            flag = True\n",
    "            for x in range(llx, urx):\n",
    "                for y in range(lly, ury):\n",
    "                    if not figure[y][x]:\n",
    "                        flag = False\n",
    "                        break\n",
    "                if not flag:\n",
    "                    break\n",
    "            \n",
    "            area = (urx - llx) * (ury - lly)\n",
    "            areas.append(area)\n",
    "\n",
    "print(max(areas))"
   ]
  },
  {
   "cell_type": "code",
   "execution_count": null,
   "metadata": {},
   "outputs": [],
   "source": []
  }
 ],
 "metadata": {
  "kernelspec": {
   "display_name": "Python 3",
   "language": "python",
   "name": "python3"
  },
  "language_info": {
   "codemirror_mode": {
    "name": "ipython",
    "version": 3
   },
   "file_extension": ".py",
   "mimetype": "text/x-python",
   "name": "python",
   "nbconvert_exporter": "python",
   "pygments_lexer": "ipython3",
   "version": "3.8.5"
  }
 },
 "nbformat": 4,
 "nbformat_minor": 4
}
