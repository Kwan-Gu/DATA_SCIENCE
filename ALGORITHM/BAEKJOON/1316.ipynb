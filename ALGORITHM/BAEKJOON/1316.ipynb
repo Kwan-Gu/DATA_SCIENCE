{
 "cells": [
  {
   "cell_type": "code",
   "execution_count": 15,
   "metadata": {},
   "outputs": [
    {
     "name": "stdout",
     "output_type": "stream",
     "text": [
      "4\n",
      "aba\n",
      "abab\n",
      "abcabc\n",
      "a\n"
     ]
    },
    {
     "data": {
      "text/plain": [
       "1"
      ]
     },
     "execution_count": 15,
     "metadata": {},
     "output_type": "execute_result"
    }
   ],
   "source": [
    "N = int(input())\n",
    "words = []\n",
    "\n",
    "for n in range(N):\n",
    "    words.append(input())\n",
    "\n",
    "def check_group_word(word):\n",
    "    temp = [word[0]]\n",
    "    for char in word[1 :]:\n",
    "        if char == temp[-1]:\n",
    "            continue\n",
    "        else:\n",
    "            if char in temp:\n",
    "                return False\n",
    "            else:\n",
    "                temp.append(char)\n",
    "                continue\n",
    "    return True\n",
    "\n",
    "print(sum([check_group_word(word) for word in words]))"
   ]
  }
 ],
 "metadata": {
  "kernelspec": {
   "display_name": "Python 3",
   "language": "python",
   "name": "python3"
  },
  "language_info": {
   "codemirror_mode": {
    "name": "ipython",
    "version": 3
   },
   "file_extension": ".py",
   "mimetype": "text/x-python",
   "name": "python",
   "nbconvert_exporter": "python",
   "pygments_lexer": "ipython3",
   "version": "3.8.5"
  }
 },
 "nbformat": 4,
 "nbformat_minor": 4
}
