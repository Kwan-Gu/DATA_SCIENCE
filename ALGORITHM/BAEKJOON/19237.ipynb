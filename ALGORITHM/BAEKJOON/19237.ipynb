{
 "cells": [
  {
   "cell_type": "code",
   "execution_count": 23,
   "metadata": {},
   "outputs": [
    {
     "name": "stdout",
     "output_type": "stream",
     "text": [
      "5 4 4\n"
     ]
    }
   ],
   "source": [
    "N, M, k = map(int, input().split())"
   ]
  },
  {
   "cell_type": "code",
   "execution_count": 24,
   "metadata": {},
   "outputs": [
    {
     "name": "stdout",
     "output_type": "stream",
     "text": [
      "0 0 0 0 3\n",
      "0 2 0 0 0\n",
      "1 0 0 0 4\n",
      "0 0 0 0 0\n",
      "0 0 0 0 0\n"
     ]
    }
   ],
   "source": [
    "loc_grid = []\n",
    "for _ in range(N):\n",
    "    loc_grid.append(list(map(int, input().split())))"
   ]
  },
  {
   "cell_type": "code",
   "execution_count": 25,
   "metadata": {},
   "outputs": [
    {
     "data": {
      "text/plain": [
       "[[0, 0, 0, 0, 3],\n",
       " [0, 2, 0, 0, 0],\n",
       " [1, 0, 0, 0, 4],\n",
       " [0, 0, 0, 0, 0],\n",
       " [0, 0, 0, 0, 0]]"
      ]
     },
     "execution_count": 25,
     "metadata": {},
     "output_type": "execute_result"
    }
   ],
   "source": [
    "loc_grid"
   ]
  },
  {
   "cell_type": "code",
   "execution_count": 30,
   "metadata": {},
   "outputs": [],
   "source": [
    "smell_grid = loc_grid[:]\n",
    "\n",
    "rest_grid = []\n",
    "for y in range(N):\n",
    "    temp_rest = [for x in range(N)"
   ]
  },
  {
   "cell_type": "code",
   "execution_count": 32,
   "metadata": {},
   "outputs": [
    {
     "data": {
      "text/plain": [
       "[[0, 0, 0, 0, 3],\n",
       " [0, 2, 0, 0, 0],\n",
       " [1, 0, 0, 0, 4],\n",
       " [0, 0, 0, 0, 0],\n",
       " [0, 0, 0, 0, 0]]"
      ]
     },
     "execution_count": 32,
     "metadata": {},
     "output_type": "execute_result"
    }
   ],
   "source": [
    "loc_grid"
   ]
  },
  {
   "cell_type": "code",
   "execution_count": 27,
   "metadata": {},
   "outputs": [
    {
     "data": {
      "text/plain": [
       "[[0, 0, 0, 0, 3],\n",
       " [0, 2, 0, 0, 0],\n",
       " [1, 0, 0, 0, 4],\n",
       " [0, 0, 0, 0, 0],\n",
       " [0, 0, 0, 0, 0]]"
      ]
     },
     "execution_count": 27,
     "metadata": {},
     "output_type": "execute_result"
    }
   ],
   "source": [
    "smell_grid"
   ]
  },
  {
   "cell_type": "code",
   "execution_count": 20,
   "metadata": {},
   "outputs": [
    {
     "name": "stdout",
     "output_type": "stream",
     "text": [
      "4 4 3 1\n"
     ]
    }
   ],
   "source": [
    "head = map(int, input().split())"
   ]
  },
  {
   "cell_type": "code",
   "execution_count": 21,
   "metadata": {},
   "outputs": [
    {
     "name": "stdout",
     "output_type": "stream",
     "text": [
      "2 3 1 4\n",
      "4 1 2 3\n",
      "3 4 2 1\n",
      "4 3 1 2\n",
      "2 4 3 1\n",
      "2 1 3 4\n",
      "3 4 1 2\n",
      "4 1 2 3\n",
      "4 3 2 1\n",
      "1 4 3 2\n",
      "1 3 2 4\n",
      "3 2 1 4\n",
      "3 4 1 2\n",
      "3 2 4 1\n",
      "1 4 2 3\n",
      "1 4 2 3\n"
     ]
    }
   ],
   "source": [
    "priority = {}\n",
    "for shark in range(M):\n",
    "    shark += 1\n",
    "    \n",
    "    temp_priority = []\n",
    "    for _ in range(4):\n",
    "        temp_priority.append(list(map(int, input().split())))\n",
    "    priority[shark] = temp_priority"
   ]
  },
  {
   "cell_type": "code",
   "execution_count": 18,
   "metadata": {},
   "outputs": [],
   "source": [
    "# 1: 위, 2: 아래, 3: 왼, 4: 오"
   ]
  },
  {
   "cell_type": "code",
   "execution_count": null,
   "metadata": {},
   "outputs": [],
   "source": []
  }
 ],
 "metadata": {
  "kernelspec": {
   "display_name": "Python 3",
   "language": "python",
   "name": "python3"
  },
  "language_info": {
   "codemirror_mode": {
    "name": "ipython",
    "version": 3
   },
   "file_extension": ".py",
   "mimetype": "text/x-python",
   "name": "python",
   "nbconvert_exporter": "python",
   "pygments_lexer": "ipython3",
   "version": "3.8.5"
  }
 },
 "nbformat": 4,
 "nbformat_minor": 4
}
