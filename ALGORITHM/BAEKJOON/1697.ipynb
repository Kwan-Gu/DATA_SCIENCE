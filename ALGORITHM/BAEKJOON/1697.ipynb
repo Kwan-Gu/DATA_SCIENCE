{
 "cells": [
  {
   "cell_type": "code",
   "execution_count": 50,
   "metadata": {},
   "outputs": [
    {
     "name": "stdout",
     "output_type": "stream",
     "text": [
      "5 17\n",
      "4\n"
     ]
    }
   ],
   "source": [
    "N, K = map(int, input().split())\n",
    "\n",
    "\n",
    "checked = [N]\n",
    "checking = [N]\n",
    "second = 0\n",
    "\n",
    "\n",
    "while K not in checked:\n",
    "    second += 1\n",
    "    \n",
    "    new_checking = []\n",
    "    for check in checking:\n",
    "        for loc in [check - 1, check + 1, check * 2]:\n",
    "            if (loc not in checked) & (loc >= 0) & (loc <= 100000):\n",
    "                checked.append(loc)\n",
    "                if loc not in new_checking:\n",
    "                    new_checking.append(loc)\n",
    "    checking = new_checking\n",
    "\n",
    "\n",
    "print(second)"
   ]
  },
  {
   "cell_type": "code",
   "execution_count": 49,
   "metadata": {
    "scrolled": true
   },
   "outputs": [
    {
     "name": "stdout",
     "output_type": "stream",
     "text": [
      "5 17\n",
      "4\n"
     ]
    }
   ],
   "source": [
    "N, K = map(int, input().split())\n",
    "\n",
    "checking = [N]\n",
    "checked = [False] * 100001\n",
    "second = 0\n",
    "flag = False\n",
    "\n",
    "while True:\n",
    "    new_checking = []\n",
    "    \n",
    "    for check in checking:\n",
    "        if not checked[check]:\n",
    "            checked[check] = True\n",
    "            \n",
    "            if check == K:\n",
    "                flag = True\n",
    "                break\n",
    "                \n",
    "            left = check - 1\n",
    "            right = check + 1\n",
    "            port = check * 2\n",
    "            \n",
    "            if left >= 0:\n",
    "                if not checked[left]:\n",
    "                    new_checking.append(left)\n",
    "            if right <= 100000:\n",
    "                if not checked[right]:\n",
    "                    new_checking.append(right)\n",
    "            if port <= 100000:\n",
    "                if not checked[port]:\n",
    "                    new_checking.append(port)\n",
    "    \n",
    "    if flag:\n",
    "        print(second)\n",
    "        break\n",
    "    \n",
    "    checking = new_checking\n",
    "    second += 1"
   ]
  }
 ],
 "metadata": {
  "kernelspec": {
   "display_name": "Python 3",
   "language": "python",
   "name": "python3"
  },
  "language_info": {
   "codemirror_mode": {
    "name": "ipython",
    "version": 3
   },
   "file_extension": ".py",
   "mimetype": "text/x-python",
   "name": "python",
   "nbconvert_exporter": "python",
   "pygments_lexer": "ipython3",
   "version": "3.8.5"
  }
 },
 "nbformat": 4,
 "nbformat_minor": 4
}
