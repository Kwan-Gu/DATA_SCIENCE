{
 "cells": [
  {
   "cell_type": "code",
   "execution_count": 50,
   "metadata": {
    "scrolled": true
   },
   "outputs": [
    {
     "name": "stdout",
     "output_type": "stream",
     "text": [
      "..........\n",
      "..........\n",
      "..........\n",
      "..........\n",
      "..........\n",
      "..........\n",
      "..........\n",
      "..........\n",
      "..........\n",
      "..........\n",
      "0\n"
     ]
    }
   ],
   "source": [
    "x_locs, o_locs = [], []\n",
    "\n",
    "for y in range(10):\n",
    "    pan = input()\n",
    "    for x in range(10):\n",
    "        if pan[x] == \"X\":\n",
    "            x_locs.append([x, y])\n",
    "        elif pan[x] == \"O\":\n",
    "            o_locs.append([x, y])\n",
    "\n",
    "\n",
    "def five(x_locs):\n",
    "    for x_loc in x_locs:\n",
    "        x, y = x_loc\n",
    "        \n",
    "        a = 0\n",
    "        for i in range(4):\n",
    "            i += 1\n",
    "            if [x, y - i] in x_locs:\n",
    "                a += 1\n",
    "            else:\n",
    "                break\n",
    "        if a == 4:\n",
    "            return True\n",
    "        \n",
    "        a = 0\n",
    "        for i in range(4):\n",
    "            i += 1\n",
    "            if [x + i, y - i] in x_locs:\n",
    "                a += 1\n",
    "            else:\n",
    "                break\n",
    "        if a == 4:\n",
    "            return True\n",
    "        \n",
    "        a = 0\n",
    "        for i in range(4):\n",
    "            i += 1\n",
    "            if [x + i, y] in x_locs:\n",
    "                a += 1\n",
    "            else:\n",
    "                break\n",
    "        if a == 4:\n",
    "            return True\n",
    "        \n",
    "        a = 0\n",
    "        for i in range(4):\n",
    "            i += 1\n",
    "            if [x + i, y + i] in x_locs:\n",
    "                a += 1\n",
    "            else:\n",
    "                break\n",
    "        if a == 4:\n",
    "            return True\n",
    "        \n",
    "        return False\n",
    "\n",
    "\n",
    "checked = []\n",
    "result = 0\n",
    "calc = True\n",
    "\n",
    "for x_loc in x_locs:\n",
    "    x, y = x_loc\n",
    "    \n",
    "    up = [x, y - 1]\n",
    "    dn = [x, y + 1]\n",
    "    lt = [x - 1, y]\n",
    "    rt = [x + 1, y]\n",
    "    up_lt = [x - 1, y - 1]\n",
    "    up_rt = [x + 1, y - 1]\n",
    "    dn_lt = [x - 1, y + 1]\n",
    "    dn_rt = [x + 1, y + 1]\n",
    "    \n",
    "    for pos_loc in [up, dn, lt, rt, up_lt, up_rt, dn_lt, dn_rt]:\n",
    "        if (pos_loc in x_locs) | (pos_loc in o_locs) | (pos_loc in checked):\n",
    "            continue\n",
    "        elif (pos_loc[0] < 0) | (pos_loc[0] >= 10):\n",
    "            continue\n",
    "        elif (pos_loc[1] < 0) | (pos_loc[1] >= 10):\n",
    "            continue\n",
    "        else:\n",
    "            new_x_locs = x_locs[:]\n",
    "            new_x_locs.append(pos_loc)\n",
    "            \n",
    "            if five(new_x_locs):\n",
    "                result = 1\n",
    "                calc = False\n",
    "                break\n",
    "            else:\n",
    "                checked.append(pos_loc)\n",
    "    \n",
    "    if not calc:\n",
    "        break\n",
    "\n",
    "print(result)"
   ]
  },
  {
   "cell_type": "code",
   "execution_count": 49,
   "metadata": {},
   "outputs": [
    {
     "data": {
      "text/plain": [
       "[[3, 0], [5, 0], [8, 0], [4, 1], [5, 2], [7, 4], [6, 3]]"
      ]
     },
     "execution_count": 49,
     "metadata": {},
     "output_type": "execute_result"
    }
   ],
   "source": [
    "new_x_locs"
   ]
  }
 ],
 "metadata": {
  "kernelspec": {
   "display_name": "Python 3",
   "language": "python",
   "name": "python3"
  },
  "language_info": {
   "codemirror_mode": {
    "name": "ipython",
    "version": 3
   },
   "file_extension": ".py",
   "mimetype": "text/x-python",
   "name": "python",
   "nbconvert_exporter": "python",
   "pygments_lexer": "ipython3",
   "version": "3.8.5"
  }
 },
 "nbformat": 4,
 "nbformat_minor": 4
}
