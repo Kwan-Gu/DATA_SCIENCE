{
 "cells": [
  {
   "cell_type": "code",
   "execution_count": 35,
   "metadata": {},
   "outputs": [
    {
     "name": "stdout",
     "output_type": "stream",
     "text": [
      "3 4\n",
      "1 2 1\n",
      "3 2 1\n",
      "1 3 5\n",
      "2 3 2\n",
      "3\n"
     ]
    }
   ],
   "source": [
    "V, E = map(int, input().split())\n",
    "far = 10000 * V + 1\n",
    "mat = [[far] * V for _ in range(V)]\n",
    "\n",
    "for _ in range(E):\n",
    "    a, b, c = map(int, input().split())\n",
    "    mat[a - 1][b - 1] = c\n",
    "\n",
    "for i in range(V):\n",
    "    for j in range(V):\n",
    "        for k in range(V):\n",
    "            if mat[i][k] == 1:\n",
    "                continue\n",
    "            else:\n",
    "                mat[i][k] = min(mat[i][k], mat[i][j] + mat[j][k])\n",
    "\n",
    "min_dist = min(mat[v][v] for v in range(V))\n",
    "\n",
    "if min_dist == far:\n",
    "    print(-1)\n",
    "else:\n",
    "    print(min_dist)"
   ]
  }
 ],
 "metadata": {
  "kernelspec": {
   "display_name": "Python 3",
   "language": "python",
   "name": "python3"
  },
  "language_info": {
   "codemirror_mode": {
    "name": "ipython",
    "version": 3
   },
   "file_extension": ".py",
   "mimetype": "text/x-python",
   "name": "python",
   "nbconvert_exporter": "python",
   "pygments_lexer": "ipython3",
   "version": "3.8.5"
  }
 },
 "nbformat": 4,
 "nbformat_minor": 4
}
