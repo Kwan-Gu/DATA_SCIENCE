{
 "cells": [
  {
   "cell_type": "code",
   "execution_count": 30,
   "metadata": {},
   "outputs": [
    {
     "name": "stdout",
     "output_type": "stream",
     "text": [
      "6\n",
      "0 1 2 3 4 5\n",
      "1 0 2 3 4 5\n",
      "1 2 0 3 4 5\n",
      "1 2 3 0 4 5\n",
      "1 2 3 4 0 5\n",
      "1 2 3 4 5 0\n",
      "2\n"
     ]
    }
   ],
   "source": [
    "from itertools import combinations, permutations\n",
    "\n",
    "\n",
    "N = int(input())\n",
    "\n",
    "S = []\n",
    "for _ in range(N):\n",
    "    temp_S = list(map(int, input().split()))\n",
    "    S.append(temp_S)\n",
    "\n",
    "\n",
    "n = int(N / 2)\n",
    "\n",
    "comb = list(combinations(range(N), n))\n",
    "\n",
    "starts = comb[: int(len(comb) / 2)]\n",
    "links = comb[int(len(comb) / 2) :][:: -1]\n",
    "\n",
    "minimum = 1e6\n",
    "\n",
    "\n",
    "def calc_score(team, S):\n",
    "    permuts = list(permutations(team, 2))\n",
    "    score = 0\n",
    "    for permut in permuts:\n",
    "        i, j = permut\n",
    "        score += S[i][j]\n",
    "    \n",
    "    return score\n",
    "\n",
    "\n",
    "for start, link in zip(starts, links):\n",
    "    start_score = calc_score(start, S)\n",
    "    link_score = calc_score(link, S)\n",
    "    diff = abs(start_score - link_score)\n",
    "    if diff < minimum:\n",
    "        minimum = diff\n",
    "\n",
    "print(minimum)"
   ]
  }
 ],
 "metadata": {
  "kernelspec": {
   "display_name": "Python 3",
   "language": "python",
   "name": "python3"
  },
  "language_info": {
   "codemirror_mode": {
    "name": "ipython",
    "version": 3
   },
   "file_extension": ".py",
   "mimetype": "text/x-python",
   "name": "python",
   "nbconvert_exporter": "python",
   "pygments_lexer": "ipython3",
   "version": "3.8.5"
  }
 },
 "nbformat": 4,
 "nbformat_minor": 4
}
