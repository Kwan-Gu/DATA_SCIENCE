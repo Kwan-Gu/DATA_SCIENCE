{
 "cells": [
  {
   "cell_type": "markdown",
   "metadata": {},
   "source": [
    "# 4.1. 선형 회귀\n",
    "\n",
    "\n",
    "## 4.1.1. 정규방정식"
   ]
  },
  {
   "cell_type": "code",
   "execution_count": 19,
   "metadata": {},
   "outputs": [
    {
     "data": {
      "image/png": "[encoded data removed]",
      "text/plain": [
       "<Figure size 432x288 with 1 Axes>"
      ]
     },
     "metadata": {
      "needs_background": "light"
     },
     "output_type": "display_data"
    }
   ],
   "source": [
    "import numpy as np\n",
    "import matplotlib.pyplot as plt\n",
    "\n",
    "\n",
    "X = 2 * np.random.rand(100, 1) # Uniform distribution\n",
    "y = 4 + 3 * X + np.random.randn(100, 1) # 표준정규분포\n",
    "\n",
    "fig, sub = plt.subplots()\n",
    "\n",
    "sub.scatter(X, y, s = 5, c = \"k\")\n",
    "\n",
    "plt.show()"
   ]
  },
  {
   "cell_type": "code",
   "execution_count": 22,
   "metadata": {},
   "outputs": [
    {
     "data": {
      "text/plain": [
       "array([[3.61988898],\n",
       "       [3.2543139 ]])"
      ]
     },
     "execution_count": 22,
     "metadata": {},
     "output_type": "execute_result"
    }
   ],
   "source": [
    "X_b = np.c_[np.ones((100, 1)), X]\n",
    "theta_best = np.linalg.inv(X_b.T.dot(X_b)).dot(X_b.T).dot(y)\n",
    "\n",
    "theta_best"
   ]
  },
  {
   "cell_type": "code",
   "execution_count": 23,
   "metadata": {
    "scrolled": true
   },
   "outputs": [
    {
     "data": {
      "text/plain": [
       "array([[1.94453621],\n",
       "       [1.69176016],\n",
       "       [0.92012997],\n",
       "       [1.43176911],\n",
       "       [1.07618153],\n",
       "       [0.90160559],\n",
       "       [1.5425026 ],\n",
       "       [1.99790686],\n",
       "       [0.14794588],\n",
       "       [0.15075087],\n",
       "       [0.35909743],\n",
       "       [1.49819559],\n",
       "       [0.59678827],\n",
       "       [1.23413412],\n",
       "       [1.28130332],\n",
       "       [1.43427897],\n",
       "       [1.27527641],\n",
       "       [1.88682564],\n",
       "       [1.20952837],\n",
       "       [0.23612377],\n",
       "       [0.04811142],\n",
       "       [1.22607788],\n",
       "       [1.67082353],\n",
       "       [0.46399746],\n",
       "       [0.04378647],\n",
       "       [0.24211665],\n",
       "       [1.69602351],\n",
       "       [0.73205149],\n",
       "       [1.75436748],\n",
       "       [0.97312809],\n",
       "       [1.06954332],\n",
       "       [1.96365468],\n",
       "       [0.35175038],\n",
       "       [1.16017667],\n",
       "       [0.98298616],\n",
       "       [0.43151833],\n",
       "       [1.26450031],\n",
       "       [0.70854589],\n",
       "       [0.44496609],\n",
       "       [0.6471479 ],\n",
       "       [1.3006075 ],\n",
       "       [0.43909959],\n",
       "       [1.71027702],\n",
       "       [1.33009732],\n",
       "       [1.04721407],\n",
       "       [1.09324598],\n",
       "       [1.8725963 ],\n",
       "       [0.79495033],\n",
       "       [0.05742862],\n",
       "       [1.83632568],\n",
       "       [0.32622646],\n",
       "       [0.06996403],\n",
       "       [0.55905544],\n",
       "       [0.61497533],\n",
       "       [0.70512605],\n",
       "       [1.16272411],\n",
       "       [0.99478238],\n",
       "       [1.28686563],\n",
       "       [1.3249672 ],\n",
       "       [1.81377455],\n",
       "       [0.53058992],\n",
       "       [0.43955503],\n",
       "       [0.19658237],\n",
       "       [0.92549847],\n",
       "       [1.07131794],\n",
       "       [0.01092488],\n",
       "       [1.69275007],\n",
       "       [1.19208666],\n",
       "       [0.82746211],\n",
       "       [0.91397109],\n",
       "       [1.29724261],\n",
       "       [0.54869568],\n",
       "       [0.03280491],\n",
       "       [0.4344828 ],\n",
       "       [1.44766836],\n",
       "       [1.96236231],\n",
       "       [1.28447895],\n",
       "       [1.16775852],\n",
       "       [1.59183077],\n",
       "       [0.88518186],\n",
       "       [1.67840091],\n",
       "       [0.35521652],\n",
       "       [1.33756489],\n",
       "       [0.81580641],\n",
       "       [0.44228577],\n",
       "       [1.94125941],\n",
       "       [1.51196712],\n",
       "       [1.11872031],\n",
       "       [0.34007914],\n",
       "       [0.73230589],\n",
       "       [1.38438148],\n",
       "       [0.91261153],\n",
       "       [0.49062155],\n",
       "       [1.32470136],\n",
       "       [1.53195381],\n",
       "       [1.87985059],\n",
       "       [1.90764123],\n",
       "       [1.55741811],\n",
       "       [1.40732684],\n",
       "       [0.20232342]])"
      ]
     },
     "execution_count": 23,
     "metadata": {},
     "output_type": "execute_result"
    }
   ],
   "source": [
    "X"
   ]
  },
  {
   "cell_type": "code",
   "execution_count": 24,
   "metadata": {
    "scrolled": true
   },
   "outputs": [
    {
     "data": {
      "text/plain": [
       "array([[1.        , 1.94453621],\n",
       "       [1.        , 1.69176016],\n",
       "       [1.        , 0.92012997],\n",
       "       [1.        , 1.43176911],\n",
       "       [1.        , 1.07618153],\n",
       "       [1.        , 0.90160559],\n",
       "       [1.        , 1.5425026 ],\n",
       "       [1.        , 1.99790686],\n",
       "       [1.        , 0.14794588],\n",
       "       [1.        , 0.15075087],\n",
       "       [1.        , 0.35909743],\n",
       "       [1.        , 1.49819559],\n",
       "       [1.        , 0.59678827],\n",
       "       [1.        , 1.23413412],\n",
       "       [1.        , 1.28130332],\n",
       "       [1.        , 1.43427897],\n",
       "       [1.        , 1.27527641],\n",
       "       [1.        , 1.88682564],\n",
       "       [1.        , 1.20952837],\n",
       "       [1.        , 0.23612377],\n",
       "       [1.        , 0.04811142],\n",
       "       [1.        , 1.22607788],\n",
       "       [1.        , 1.67082353],\n",
       "       [1.        , 0.46399746],\n",
       "       [1.        , 0.04378647],\n",
       "       [1.        , 0.24211665],\n",
       "       [1.        , 1.69602351],\n",
       "       [1.        , 0.73205149],\n",
       "       [1.        , 1.75436748],\n",
       "       [1.        , 0.97312809],\n",
       "       [1.        , 1.06954332],\n",
       "       [1.        , 1.96365468],\n",
       "       [1.        , 0.35175038],\n",
       "       [1.        , 1.16017667],\n",
       "       [1.        , 0.98298616],\n",
       "       [1.        , 0.43151833],\n",
       "       [1.        , 1.26450031],\n",
       "       [1.        , 0.70854589],\n",
       "       [1.        , 0.44496609],\n",
       "       [1.        , 0.6471479 ],\n",
       "       [1.        , 1.3006075 ],\n",
       "       [1.        , 0.43909959],\n",
       "       [1.        , 1.71027702],\n",
       "       [1.        , 1.33009732],\n",
       "       [1.        , 1.04721407],\n",
       "       [1.        , 1.09324598],\n",
       "       [1.        , 1.8725963 ],\n",
       "       [1.        , 0.79495033],\n",
       "       [1.        , 0.05742862],\n",
       "       [1.        , 1.83632568],\n",
       "       [1.        , 0.32622646],\n",
       "       [1.        , 0.06996403],\n",
       "       [1.        , 0.55905544],\n",
       "       [1.        , 0.61497533],\n",
       "       [1.        , 0.70512605],\n",
       "       [1.        , 1.16272411],\n",
       "       [1.        , 0.99478238],\n",
       "       [1.        , 1.28686563],\n",
       "       [1.        , 1.3249672 ],\n",
       "       [1.        , 1.81377455],\n",
       "       [1.        , 0.53058992],\n",
       "       [1.        , 0.43955503],\n",
       "       [1.        , 0.19658237],\n",
       "       [1.        , 0.92549847],\n",
       "       [1.        , 1.07131794],\n",
       "       [1.        , 0.01092488],\n",
       "       [1.        , 1.69275007],\n",
       "       [1.        , 1.19208666],\n",
       "       [1.        , 0.82746211],\n",
       "       [1.        , 0.91397109],\n",
       "       [1.        , 1.29724261],\n",
       "       [1.        , 0.54869568],\n",
       "       [1.        , 0.03280491],\n",
       "       [1.        , 0.4344828 ],\n",
       "       [1.        , 1.44766836],\n",
       "       [1.        , 1.96236231],\n",
       "       [1.        , 1.28447895],\n",
       "       [1.        , 1.16775852],\n",
       "       [1.        , 1.59183077],\n",
       "       [1.        , 0.88518186],\n",
       "       [1.        , 1.67840091],\n",
       "       [1.        , 0.35521652],\n",
       "       [1.        , 1.33756489],\n",
       "       [1.        , 0.81580641],\n",
       "       [1.        , 0.44228577],\n",
       "       [1.        , 1.94125941],\n",
       "       [1.        , 1.51196712],\n",
       "       [1.        , 1.11872031],\n",
       "       [1.        , 0.34007914],\n",
       "       [1.        , 0.73230589],\n",
       "       [1.        , 1.38438148],\n",
       "       [1.        , 0.91261153],\n",
       "       [1.        , 0.49062155],\n",
       "       [1.        , 1.32470136],\n",
       "       [1.        , 1.53195381],\n",
       "       [1.        , 1.87985059],\n",
       "       [1.        , 1.90764123],\n",
       "       [1.        , 1.55741811],\n",
       "       [1.        , 1.40732684],\n",
       "       [1.        , 0.20232342]])"
      ]
     },
     "execution_count": 24,
     "metadata": {},
     "output_type": "execute_result"
    }
   ],
   "source": [
    "X_b"
   ]
  },
  {
   "cell_type": "code",
   "execution_count": 25,
   "metadata": {},
   "outputs": [
    {
     "data": {
      "text/plain": [
       "array([[ 3.61988898],\n",
       "       [10.12851678]])"
      ]
     },
     "execution_count": 25,
     "metadata": {},
     "output_type": "execute_result"
    }
   ],
   "source": [
    "X_new = np.array([[0], [2]])\n",
    "X_new_b = np.c_[np.ones((2, 1)), X_new]\n",
    "\n",
    "y_predict = X_new_b.dot(theta_best)\n",
    "\n",
    "y_predict"
   ]
  },
  {
   "cell_type": "code",
   "execution_count": 26,
   "metadata": {
    "scrolled": true
   },
   "outputs": [
    {
     "data": {
      "image/png": "[encoded data removed]",
      "text/plain": [
       "<Figure size 432x288 with 1 Axes>"
      ]
     },
     "metadata": {
      "needs_background": "light"
     },
     "output_type": "display_data"
    }
   ],
   "source": [
    "fig, sub = plt.subplots()\n",
    "\n",
    "sub.plot(X_new, y_predict, \"r-\")\n",
    "sub.plot(X, y, \"k.\", ms = 5)\n",
    "\n",
    "sub.axis([0, 2, 0, 15])\n",
    "\n",
    "plt.show()"
   ]
  },
  {
   "cell_type": "code",
   "execution_count": 27,
   "metadata": {},
   "outputs": [
    {
     "data": {
      "text/plain": [
       "(array([3.61988898]), array([[3.2543139]]))"
      ]
     },
     "execution_count": 27,
     "metadata": {},
     "output_type": "execute_result"
    }
   ],
   "source": [
    "from sklearn.linear_model import LinearRegression\n",
    "\n",
    "\n",
    "lin_reg = LinearRegression()\n",
    "lin_reg.fit(X, y)\n",
    "\n",
    "lin_reg.intercept_, lin_reg.coef_"
   ]
  },
  {
   "cell_type": "code",
   "execution_count": 28,
   "metadata": {},
   "outputs": [
    {
     "data": {
      "text/plain": [
       "array([[ 3.61988898],\n",
       "       [10.12851678]])"
      ]
     },
     "execution_count": 28,
     "metadata": {},
     "output_type": "execute_result"
    }
   ],
   "source": [
    "lin_reg.predict(X_new)"
   ]
  },
  {
   "cell_type": "code",
   "execution_count": 29,
   "metadata": {},
   "outputs": [
    {
     "data": {
      "text/plain": [
       "array([[3.61988898],\n",
       "       [3.2543139 ]])"
      ]
     },
     "execution_count": 29,
     "metadata": {},
     "output_type": "execute_result"
    }
   ],
   "source": [
    "theta_best_svd, residuals, rank, s = np.linalg.lstsq(X_b, y, rcond = 1e-6)\n",
    "\n",
    "theta_best_svd # 최소제곱법"
   ]
  },
  {
   "cell_type": "code",
   "execution_count": 30,
   "metadata": {},
   "outputs": [
    {
     "data": {
      "text/plain": [
       "array([[3.61988898],\n",
       "       [3.2543139 ]])"
      ]
     },
     "execution_count": 30,
     "metadata": {},
     "output_type": "execute_result"
    }
   ],
   "source": [
    "np.linalg.pinv(X_b).dot(y) # 유사역행렬로 풀었을 때"
   ]
  },
  {
   "cell_type": "markdown",
   "metadata": {},
   "source": [
    "# 4.2. 경사 하강법\n",
    "\n",
    "\n",
    "## 4.2.1. 배치 경사 하강법"
   ]
  },
  {
   "cell_type": "markdown",
   "metadata": {},
   "source": [
    "* 경사 하강법의 스텝"
   ]
  },
  {
   "cell_type": "code",
   "execution_count": 31,
   "metadata": {},
   "outputs": [
    {
     "data": {
      "text/plain": [
       "array([[3.61988898],\n",
       "       [3.2543139 ]])"
      ]
     },
     "execution_count": 31,
     "metadata": {},
     "output_type": "execute_result"
    }
   ],
   "source": [
    "eta = 0.1\n",
    "n_iterations = 1000\n",
    "m = 100 # 샘플 개수\n",
    "\n",
    "theta = np.random.randn(2, 1)\n",
    "\n",
    "for iteration in range(n_iterations):\n",
    "    gradients = 2 / m * X_b.T.dot(X_b.dot(theta) - y)\n",
    "    \n",
    "    theta = theta - eta * gradients\n",
    "\n",
    "theta"
   ]
  },
  {
   "cell_type": "markdown",
   "metadata": {},
   "source": [
    "## 4.2.2. 확률적 경사 하강법"
   ]
  },
  {
   "cell_type": "code",
   "execution_count": 34,
   "metadata": {},
   "outputs": [
    {
     "data": {
      "text/plain": [
       "array([[3.64216035],\n",
       "       [3.27539763]])"
      ]
     },
     "execution_count": 34,
     "metadata": {},
     "output_type": "execute_result"
    }
   ],
   "source": [
    "n_epochs = 50\n",
    "t0, t1 = 5, 50\n",
    "\n",
    "def learning_schedule(t):\n",
    "    return t0 / (t + t1)\n",
    "\n",
    "theta = np.random.randn(2, 1)\n",
    "\n",
    "for epoch in range(n_epochs):\n",
    "    for i in range(m):\n",
    "        random_index = np.random.randint(m) # m보다 작은 랜덤한 숫자 하나 출력\n",
    "        \n",
    "        xi = X_b[random_index : random_index + 1]\n",
    "        yi = y[random_index : random_index + 1]\n",
    "        \n",
    "        gradients = 2 * xi.T.dot(xi.dot(theta) - yi)\n",
    "        eta = learning_schedule(epoch * m + i)\n",
    "        \n",
    "        theta = theta - eta * gradients\n",
    "\n",
    "theta"
   ]
  },
  {
   "cell_type": "code",
   "execution_count": 35,
   "metadata": {},
   "outputs": [
    {
     "data": {
      "text/plain": [
       "(array([3.59352549]), array([3.27224049]))"
      ]
     },
     "execution_count": 35,
     "metadata": {},
     "output_type": "execute_result"
    }
   ],
   "source": [
    "from sklearn.linear_model import SGDRegressor\n",
    "\n",
    "\n",
    "sgd_reg = SGDRegressor(max_iter = 1000, tol = 1e-3, penalty = None, eta0 = 0.1)\n",
    "sgd_reg.fit(X, y.ravel())\n",
    "\n",
    "sgd_reg.intercept_, sgd_reg.coef_"
   ]
  }
 ],
 "metadata": {
  "kernelspec": {
   "display_name": "Python 3",
   "language": "python",
   "name": "python3"
  },
  "language_info": {
   "codemirror_mode": {
    "name": "ipython",
    "version": 3
   },
   "file_extension": ".py",
   "mimetype": "text/x-python",
   "name": "python",
   "nbconvert_exporter": "python",
   "pygments_lexer": "ipython3",
   "version": "3.6.12"
  }
 },
 "nbformat": 4,
 "nbformat_minor": 4
}
