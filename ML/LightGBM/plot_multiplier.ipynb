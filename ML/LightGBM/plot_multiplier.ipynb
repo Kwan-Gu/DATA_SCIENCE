{
 "cells": [
  {
   "cell_type": "code",
   "execution_count": 1,
   "metadata": {},
   "outputs": [],
   "source": [
    "import numpy as np\n",
    "import matplotlib.pyplot as plt"
   ]
  },
  {
   "cell_type": "code",
   "execution_count": 2,
   "metadata": {},
   "outputs": [],
   "source": [
    "def multiplier(a, b):\n",
    "    return (1 - a) / b"
   ]
  },
  {
   "cell_type": "code",
   "execution_count": 15,
   "metadata": {},
   "outputs": [],
   "source": [
    "a_array = np.arange(0., 1., 0.01)\n",
    "b_array = np.arange(0., 1., 0.01)\n",
    "\n",
    "result = np.full((len(a_array), len(b_array)), np.nan)\n",
    "\n",
    "for i, a in enumerate(a_array):\n",
    "    for j, b in enumerate(b_array):\n",
    "        if b == 0:\n",
    "            continue\n",
    "        else:\n",
    "            if a + b > 1.:\n",
    "                continue\n",
    "            else:\n",
    "                result[i, j] = multiplier(a, b)"
   ]
  },
  {
   "cell_type": "code",
   "execution_count": 17,
   "metadata": {},
   "outputs": [
    {
     "data": {
      "text/plain": [
       "(0, 1)"
      ]
     },
     "execution_count": 17,
     "metadata": {},
     "output_type": "execute_result"
    },
    {
     "data": {
      "image/png": "[encoded data removed]",
      "text/plain": [
       "<Figure size 432x360 with 2 Axes>"
      ]
     },
     "metadata": {
      "needs_background": "light"
     },
     "output_type": "display_data"
    }
   ],
   "source": [
    "aa, bb = np.meshgrid(a_array, b_array)\n",
    "\n",
    "plt.figure(figsize = (6, 5))\n",
    "plot = plt.pcolor(aa, bb, result, cmap = \"jet\")\n",
    "plt.colorbar(plot)\n",
    "plt.xlabel(\"b\")\n",
    "plt.ylabel(\"a\")\n",
    "plt.xlim(0, 1)\n",
    "plt.ylim(0, 1)"
   ]
  }
 ],
 "metadata": {
  "kernelspec": {
   "display_name": "Python 3",
   "language": "python",
   "name": "python3"
  },
  "language_info": {
   "codemirror_mode": {
    "name": "ipython",
    "version": 3
   },
   "file_extension": ".py",
   "mimetype": "text/x-python",
   "name": "python",
   "nbconvert_exporter": "python",
   "pygments_lexer": "ipython3",
   "version": "3.7.6"
  }
 },
 "nbformat": 4,
 "nbformat_minor": 4
}
