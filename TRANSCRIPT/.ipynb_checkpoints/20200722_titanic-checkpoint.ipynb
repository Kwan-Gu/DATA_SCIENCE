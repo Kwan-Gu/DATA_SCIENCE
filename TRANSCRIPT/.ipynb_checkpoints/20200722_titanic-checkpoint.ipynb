{
 "cells": [
  {
   "cell_type": "markdown",
   "metadata": {},
   "source": [
    "# 데이터 분석 코드 필사 (2020.07.22)\n",
    "\n",
    "## - 원본: [Titanic Data Science Solutions (by Manav Sehgal)](https://www.kaggle.com/startupsci/titanic-data-science-solutions)\n",
    "\n",
    "## - 순서\n",
    "\n",
    "### [1. 문제 정의](#1.-문제-정의)\n",
    "### [2. 훈련, 테스트 자료 정의](#2.-훈련,-테스트-자료-정의)\n",
    "### [3. 데이터 전처리](#3.-데이터-전처리)\n",
    "### [4. 데이터 분석](#4.-데이터-분석)\n",
    "### [5. 모델링을 통한 예측](#5.-모델링을-통한-예측)\n",
    "### [6. 문제 해결](#6.-문제-해결)\n",
    "### [7. 제출](#7.-제출)"
   ]
  },
  {
   "cell_type": "markdown",
   "metadata": {},
   "source": [
    "# 1. 문제 정의\n",
    "\n",
    "- 1912년 4월 15일 타이타닉 호가 북대서양 해상에서 유빙과 충돌해 가라앉는 사고가 발생\n",
    "- 전체 2224 명의 승객들 중 1502 명의 사망자를 기록 (32% 생존율)\n",
    "- 높은 사망율은 부족한 구명선 때문\n",
    "- 특정 그룹(예: 어린이, 상류층)의 생존율이 비교적 높았음\n",
    "\n",
    "\n",
    "- 타이타닉 승객 정보를 이용해 타이타닉 사고로 인한 생존/사망 여부를 예측하는 것이 목적\n",
    "- 훈련 자료: 타이타닉에 승선한 승객 정보와 사고로 인한 생존/사망 여부의 정보\n",
    "- 테스트 자료: 오직 승객 정보만"
   ]
  },
  {
   "cell_type": "code",
   "execution_count": null,
   "metadata": {},
   "outputs": [],
   "source": []
  }
 ],
 "metadata": {
  "kernelspec": {
   "display_name": "Python 3",
   "language": "python",
   "name": "python3"
  },
  "language_info": {
   "codemirror_mode": {
    "name": "ipython",
    "version": 3
   },
   "file_extension": ".py",
   "mimetype": "text/x-python",
   "name": "python",
   "nbconvert_exporter": "python",
   "pygments_lexer": "ipython3",
   "version": "3.6.10"
  }
 },
 "nbformat": 4,
 "nbformat_minor": 4
}
